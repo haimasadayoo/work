{
  "nbformat": 4,
  "nbformat_minor": 0,
  "metadata": {
    "colab": {
      "name": "言語処理",
      "provenance": [],
      "collapsed_sections": []
    },
    "kernelspec": {
      "name": "python3",
      "display_name": "Python 3"
    },
    "accelerator": "TPU"
  },
  "cells": [
    {
      "cell_type": "markdown",
      "metadata": {
        "id": "hR8WNCE2ns5L",
        "colab_type": "text"
      },
      "source": [
        "自然言語処理を始めるにあたり　まずは必要なパッケージを入れます"
      ]
    },
    {
      "cell_type": "code",
      "metadata": {
        "id": "O_v67Hqkno8f",
        "colab_type": "code",
        "outputId": "2b889c8d-3a5e-49d0-d341-075fa9e0b1f1",
        "colab": {
          "base_uri": "https://localhost:8080/",
          "height": 34
        }
      },
      "source": [
        "# Mecabを使用するとエラーが出るため一時的に中止\n",
        "#!pip3 install mecab-python3\n",
        "import random\n",
        "import time\n",
        "import math\n",
        "print(\"done!\")"
      ],
      "execution_count": 0,
      "outputs": [
        {
          "output_type": "stream",
          "text": [
            "done!\n"
          ],
          "name": "stdout"
        }
      ]
    },
    {
      "cell_type": "markdown",
      "metadata": {
        "id": "3jGaLXqensGH",
        "colab_type": "text"
      },
      "source": [
        "次に　自然言語処理に使うテキストを用意します。\n",
        "例としてなろう小説のtextを使ってみましょう。\n",
        "\n",
        "マウントしてみます\n",
        "\n",
        "※**google ドライブを使用しない場合は次二つのセルをスキップしてください**"
      ]
    },
    {
      "cell_type": "code",
      "metadata": {
        "id": "Twho0jdFnxoU",
        "colab_type": "code",
        "outputId": "efad54f6-d1e8-4d17-ffad-9a746ed3c3c2",
        "colab": {
          "base_uri": "https://localhost:8080/",
          "height": 34
        }
      },
      "source": [
        "#マウント\n",
        "from google.colab import drive\n",
        "drive.mount('/content/drive')"
      ],
      "execution_count": 0,
      "outputs": [
        {
          "output_type": "stream",
          "text": [
            "Drive already mounted at /content/drive; to attempt to forcibly remount, call drive.mount(\"/content/drive\", force_remount=True).\n"
          ],
          "name": "stdout"
        }
      ]
    },
    {
      "cell_type": "markdown",
      "metadata": {
        "id": "ciWQ6XqXps64",
        "colab_type": "text"
      },
      "source": [
        "適切にマウントされたか確かめます\n",
        "※**google ドライブを使用しない場合はこのセルをスキップしてください**"
      ]
    },
    {
      "cell_type": "code",
      "metadata": {
        "id": "AjcYY2R4pvis",
        "colab_type": "code",
        "outputId": "c836d2ad-626e-40ad-b9e9-53b61992a2c2",
        "colab": {
          "base_uri": "https://localhost:8080/",
          "height": 153
        }
      },
      "source": [
        "# ローカルディレクトリからファイル読み込み\n",
        "start=time.time()\n",
        "path = \"output.txt\"\n",
        "f = open(path,encoding=\"UTF-8\")\n",
        "text=f.read()\n",
        "le=len(text)\n",
        "print(\"文章の長さ:\"+str(len(text)))\n",
        "print(\"最初の50文字\\n\")\n",
        "for i in range(50):\n",
        "  print(text[i],end=\"\")\n",
        "print(\"\\n\")\n",
        "print(\"time: \"+str(time.time()-start))"
      ],
      "execution_count": 0,
      "outputs": [
        {
          "output_type": "stream",
          "text": [
            "文章の長さ:7465806\n",
            "最初の50文字\n",
            "\n",
            "転生 し たら スライム だっ た 件 \n",
            "伏瀬 \n",
            "タテ 書き 小説 ネット By ヒナ プロジェクト\n",
            "\n",
            "time: 0.1069800853729248\n"
          ],
          "name": "stdout"
        }
      ]
    },
    {
      "cell_type": "markdown",
      "metadata": {
        "id": "ziQmxYsZIHms",
        "colab_type": "text"
      },
      "source": [
        "※**google drive以外で実行する場合はこちら**。上二つの代わり"
      ]
    },
    {
      "cell_type": "code",
      "metadata": {
        "id": "82ENngqxIPY2",
        "colab_type": "code",
        "outputId": "c1bd1770-8de5-434d-c704-17aaaa6dd42c",
        "colab": {
          "base_uri": "https://localhost:8080/",
          "height": 153
        }
      },
      "source": [
        "# ネットからファイル読み込み\n",
        "start=time.time()\n",
        "import urllib\n",
        "url=\"https://2019-aut-tue-5-software.s3-ap-northeast-1.amazonaws.com/output.txt\"\n",
        "res = urllib.request.urlopen(url=url)\n",
        "text=res.read().decode('utf-8')\n",
        "le=len(text)\n",
        "print(\"文章の長さ:\"+str(len(text)))\n",
        "print(\"最初の50文字\\n\")\n",
        "for i in range(50):\n",
        "  print(text[i],end=\"\")\n",
        "print(\"\\n\")\n",
        "print(\"time: \"+str(time.time()-start))"
      ],
      "execution_count": 0,
      "outputs": [
        {
          "output_type": "stream",
          "text": [
            "文章の長さ:7727821\n",
            "最初の50文字\n",
            "\n",
            "転生 し たら スライム だっ た 件 \r\n",
            "伏瀬 \r\n",
            "タテ 書き 小説 ネット By ヒナ プロジェ\n",
            "\n",
            "time: 2.047882556915283\n"
          ],
          "name": "stdout"
        }
      ]
    },
    {
      "cell_type": "markdown",
      "metadata": {
        "id": "qJwRZZhpvwHl",
        "colab_type": "text"
      },
      "source": [
        "準備ができました。　早速単語に分けてみましょう"
      ]
    },
    {
      "cell_type": "code",
      "metadata": {
        "id": "Mc8wMQGfwBGc",
        "colab_type": "code",
        "outputId": "f40eab08-bcb1-4c3c-f691-c7e7ed576170",
        "colab": {
          "base_uri": "https://localhost:8080/",
          "height": 51
        }
      },
      "source": [
        "# Mecabを使用するとエラーが出るため一時的に中止\n",
        "#import MeCab\n",
        "#tagger = MeCab.Tagger(\"-Owakati\")\n",
        "#str_output = tagger.parse(text)\n",
        "#print(str_output)\n",
        "#print(type(str_output))"
      ],
      "execution_count": 0,
      "outputs": [
        {
          "output_type": "stream",
          "text": [
            "None\n",
            "<class 'NoneType'>\n"
          ],
          "name": "stdout"
        }
      ]
    },
    {
      "cell_type": "markdown",
      "metadata": {
        "id": "YuhYHgSM5Jz7",
        "colab_type": "text"
      },
      "source": [
        "次に単語を辞書に突っ込んでいきます"
      ]
    },
    {
      "cell_type": "code",
      "metadata": {
        "id": "KJrqkefQ5Mmr",
        "colab_type": "code",
        "outputId": "cf7d8aef-ba4c-4190-90bc-d3dd8288a817",
        "colab": {
          "base_uri": "https://localhost:8080/",
          "height": 119
        }
      },
      "source": [
        "start=time.time()\n",
        "\n",
        "# 単語を辞書に突っ込む関数\n",
        "def add_word(dictionary,word):\n",
        "  if(word in dictionary):\n",
        "    dictionary[word]+=1\n",
        "  else:\n",
        "    dictionary[word]=1\n",
        "\n",
        "# 改行で区切る...ってこれ意味あるのかとかあとで思った\n",
        "text2=text.splitlines()\n",
        "words={}\n",
        "p=0\n",
        "# 一行にある単語を分割して辞書に突っ込む\n",
        "for i in range(len(text2)):\n",
        "  word = text2[i].split(\" \")\n",
        "  for j in word:\n",
        "    p+=1\n",
        "    add_word(words,j)\n",
        "# 辞書のキーを取得\n",
        "key_dict=words.keys()\n",
        "# キーをリストに変換\n",
        "keys=list(key_dict)\n",
        "print(\"文字数　：\"+str(le))\n",
        "print(\"総単語数  : \"+str(p))\n",
        "print(\"単語の種類: \"+str(len(words)))\n",
        "\n",
        "print(\"\\n\")\n",
        "print(\"time: \"+str(time.time()-start))\n"
      ],
      "execution_count": 0,
      "outputs": [
        {
          "output_type": "stream",
          "text": [
            "文字数　：7727821\n",
            "総単語数  : 2980177\n",
            "単語の種類: 34530\n",
            "\n",
            "\n",
            "time: 1.4837186336517334\n"
          ],
          "name": "stdout"
        }
      ]
    },
    {
      "cell_type": "markdown",
      "metadata": {
        "id": "WWK91NGS9E2y",
        "colab_type": "text"
      },
      "source": [
        "辞書に単語を突っ込むのは終了しました。\n",
        "続いて検索時間を見てみましょう。\n",
        "\n",
        "ランダムにm個選んで検索　をn回やって平均をとってみます"
      ]
    },
    {
      "cell_type": "code",
      "metadata": {
        "id": "5U-o9B3gBRuV",
        "colab_type": "code",
        "outputId": "3fbcd71f-98a6-4f96-8908-029b40000411",
        "colab": {
          "base_uri": "https://localhost:8080/",
          "height": 1000
        }
      },
      "source": [
        "# 単語の出現回数順に n個表示\n",
        "def show_table(n):\n",
        "  print(\"頻出単語を上位から \"+str(n)+\" 個表示します\")\n",
        "  score_sorted = sorted(words.items(), key=lambda x:-x[1])\n",
        "  for i in range(n):\n",
        "    print(score_sorted[i])\n",
        "\n",
        "# 単語の検索時間を測定する。\n",
        "def count_time(n,m):\n",
        "  start=time.time()\n",
        "\n",
        "  total=0\n",
        "  count=len(keys)\n",
        "  s=\"a\"\n",
        "  for i in range(n):\n",
        "    for j in range(m):\n",
        "      rand=random.random()\n",
        "      rand=math.floor(rand*(count-1))\n",
        "      s=words[keys[rand]]\n",
        "      #print(str(keys[rand])+\" : \"+str(words[keys[rand]]))\n",
        "  print(str(n*m)+\" 回単語を検索しました。\")\n",
        "  print(\"total: \"+str(time.time()-start))\n",
        "  print(str(m)+\" 回の検索にかかった平均時間(\"+str(n)+\"回施行)\")\n",
        "  print(\"average: \"+str((time.time()-start)/n))\n",
        "count_time(100,1000)\n",
        "show_table(100)"
      ],
      "execution_count": 0,
      "outputs": [
        {
          "output_type": "stream",
          "text": [
            "100000 回単語を検索しました。\n",
            "total: 0.056174278259277344\n",
            "1000 回の検索にかかった平均時間(100回施行)\n",
            "average: 0.0005635929107666016\n",
            "頻出単語を上位から 100 個表示します\n",
            "('', 262015)\n",
            "('の', 135368)\n",
            "('に', 105891)\n",
            "('た', 102918)\n",
            "('て', 101414)\n",
            "('を', 90910)\n",
            "('は', 89891)\n",
            "('が', 88083)\n",
            "('で', 55593)\n",
            "('と', 45613)\n",
            "('し', 43260)\n",
            "('だ', 37525)\n",
            "('も', 35004)\n",
            "('ない', 32160)\n",
            "('な', 31946)\n",
            "('い', 28266)\n",
            "('いる', 26416)\n",
            "('から', 18269)\n",
            "('か', 18183)\n",
            "('する', 16786)\n",
            "('ある', 16275)\n",
            "('事', 14935)\n",
            "('れ', 14269)\n",
            "('よう', 13522)\n",
            "('俺', 13073)\n",
            "('う', 12383)\n",
            "('さ', 12357)\n",
            "('こと', 11207)\n",
            "('者', 10410)\n",
            "('ば', 9700)\n",
            "('その', 9634)\n",
            "('人', 9313)\n",
            "('ん', 9300)\n",
            "('です', 9101)\n",
            "('そう', 7939)\n",
            "('へ', 7663)\n",
            "('なら', 7565)\n",
            "('なっ', 7462)\n",
            "('たち', 7235)\n",
            "('だっ', 7230)\n",
            "('それ', 7140)\n",
            "('だけ', 7033)\n",
            "('よ', 6981)\n",
            "('だろ', 6238)\n",
            "('なる', 6015)\n",
            "('何', 5920)\n",
            "('迷宮', 5868)\n",
            "('という', 5841)\n",
            "('まで', 5643)\n",
            "('あっ', 5501)\n",
            "('この', 5420)\n",
            "('ます', 5127)\n",
            "('なかっ', 5028)\n",
            "('ので', 4922)\n",
            "('冒険', 4767)\n",
            "('達', 4756)\n",
            "('せ', 4739)\n",
            "('魔物', 4734)\n",
            "('なく', 4605)\n",
            "('ね', 4526)\n",
            "('られ', 4507)\n",
            "('れる', 4264)\n",
            "('いい', 4233)\n",
            "('さん', 4209)\n",
            "('自分', 4185)\n",
            "('話', 4132)\n",
            "('けど', 4088)\n",
            "('魔法', 4077)\n",
            "('として', 4054)\n",
            "('来', 3740)\n",
            "('しまっ', 3697)\n",
            "('１', 3662)\n",
            "('これ', 3585)\n",
            "('中', 3570)\n",
            "('方', 3470)\n",
            "('今', 3403)\n",
            "('私', 3350)\n",
            "('魔', 3325)\n",
            "('見', 3314)\n",
            "('でき', 3308)\n",
            "('時', 3300)\n",
            "('手', 3296)\n",
            "('そんな', 3286)\n",
            "('力', 3261)\n",
            "('や', 3169)\n",
            "('前', 3087)\n",
            "('一', 3074)\n",
            "('る', 2992)\n",
            "('必要', 2943)\n",
            "('為', 2934)\n",
            "('でも', 2905)\n",
            "('０', 2886)\n",
            "('相手', 2844)\n",
            "('剣', 2820)\n",
            "('言っ', 2817)\n",
            "('目', 2796)\n",
            "('もの', 2728)\n",
            "('あり', 2721)\n",
            "('ず', 2675)\n",
            "('そして', 2637)\n"
          ],
          "name": "stdout"
        }
      ]
    }
  ]
}